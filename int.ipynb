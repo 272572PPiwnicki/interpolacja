import numpy as np
import matplotlib.pyplot as plt
from scipy.signal import convolve

def function_1(x):
    return np.sin(x)

def function_2(x):
    return np.sin(1/x)

def function_3(x):
    return np.sign(np.sin(8*x))

functions = [function_1, function_2, function_3]

def kernel_1(t):
    return np.where((t >= 0) & (t < 1), 1, 0)

def kernel_2(t):
    return np.where((t >= -1/2) & (t <= 1/2), 1, 0)

def kernel_3(t):
    return np.where((t >= -1) & (t <= 1), 1 - np.abs(t), 0)

kernels = [kernel_1, kernel_2, kernel_3]

def interpolate(original_func, kernel, num_points):
    x_original = np.linspace(-np.pi, np.pi, 1000)
    y_original = original_func(x_original)

    x_interpolated = np.linspace(-np.pi, np.pi, 1000)
    y_interpolated = convolve(y_original, kernel, mode='same', method='auto') / np.sum(kernel)

    mse = calculate_mse(original_func(x_original), y_interpolated)

    return x_interpolated, y_interpolated, mse

def calculate_mse(y_original, y_interpolated):
    N = len(y_original)
    my_mse = np.sum((y_original - y_interpolated)**2) / N
    return my_mse

num_points_list = [10, 20, 40, 100]

for func in functions:
    print(f"Interpolating function {func.__name__}:")
    for kern in kernels:
        print(f"Kernel {kern.__name__}:")
        for num_points in num_points_list:
            x_interpolated, y_interpolated, my_mse = interpolate(func, kern(np.linspace(-1, 1, num_points)), num_points)

            plt.plot(np.linspace(-np.pi, np.pi, 1000), func(np.linspace(-np.pi, np.pi, 1000)), label="Original", linestyle='dashed')
            plt.plot(x_interpolated, y_interpolated, label=f"Interpolation ({num_points} pts), MSE: {my_mse:.4f}")
            plt.scatter(np.linspace(-np.pi, np.pi, num_points), func(np.linspace(-np.pi, np.pi, num_points)), marker='.', label="Sample Points")
            plt.legend(loc='upper left')
            plt.show()
